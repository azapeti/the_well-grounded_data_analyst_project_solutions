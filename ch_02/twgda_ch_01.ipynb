{
 "cells": [
  {
   "cell_type": "code",
   "execution_count": 4,
   "id": "MJUe",
   "metadata": {},
   "outputs": [],
   "source": [
    "import pandas as pd\n",
    "import numpy as np\n",
    "import matplotlib.pyplot as plt"
   ]
  },
  {
   "cell_type": "code",
   "execution_count": 5,
   "id": "vblA",
   "metadata": {},
   "outputs": [],
   "source": [
    "df = pd.read_csv(\"./data/addresses.csv\", sep=',', header=0)"
   ]
  },
  {
   "cell_type": "markdown",
   "id": "bkHC",
   "metadata": {
    "marimo": {
     "config": {
      "hide_code": true
     }
    }
   },
   "source": [
    "### *__Base questions in the description for the ch_01 task:__*\n",
    "\n",
    "1. **Which UK cities are currently underserved?**\n",
    "2. **Whether their customers are primarily London based?**"
   ]
  },
  {
   "cell_type": "markdown",
   "id": "lEQa",
   "metadata": {
    "marimo": {
     "config": {
      "hide_code": true
     }
    }
   },
   "source": [
    "#### *__First of all, I checked how many missing value there were, and since there weren’t a significant number, I removed those rows.__*"
   ]
  },
  {
   "cell_type": "code",
   "execution_count": 6,
   "id": "PKri",
   "metadata": {},
   "outputs": [
    {
     "data": {
      "text/plain": [
       "company_id       0\n",
       "address        968\n",
       "total_spend      0\n",
       "dtype: int64"
      ]
     },
     "execution_count": 6,
     "metadata": {},
     "output_type": "execute_result"
    }
   ],
   "source": [
    "df.isna().sum()"
   ]
  },
  {
   "cell_type": "code",
   "execution_count": 7,
   "id": "Xref",
   "metadata": {},
   "outputs": [],
   "source": [
    "df_na_dropped = df.dropna()"
   ]
  },
  {
   "cell_type": "markdown",
   "id": "SFPL",
   "metadata": {
    "marimo": {
     "config": {
      "hide_code": true
     }
    }
   },
   "source": [
    "#### *__On the first attempt, I removed all characters from the `address`-es (line breaks, hyphens, spaces, etc.) that I deemed unnecessary and standardized the them.__*"
   ]
  },
  {
   "cell_type": "code",
   "execution_count": 8,
   "id": "BYtC",
   "metadata": {},
   "outputs": [
    {
     "name": "stderr",
     "output_type": "stream",
     "text": [
      "/var/folders/0c/b1vsc8l925dd81gfcwc5twmw0000gn/T/ipykernel_9942/3526383166.py:1: SettingWithCopyWarning: \n",
      "A value is trying to be set on a copy of a slice from a DataFrame.\n",
      "Try using .loc[row_indexer,col_indexer] = value instead\n",
      "\n",
      "See the caveats in the documentation: https://pandas.pydata.org/pandas-docs/stable/user_guide/indexing.html#returning-a-view-versus-a-copy\n",
      "  df_na_dropped['address'] = df_na_dropped.loc[:, 'address'].str.replace('\\n', '', regex=False).str.replace(' ', '').str.lower()\n"
     ]
    }
   ],
   "source": [
    "df_na_dropped['address'] = df_na_dropped.loc[:, 'address'].str.replace('\\n', '', regex=False).str.replace(' ', '').str.lower()"
   ]
  },
  {
   "cell_type": "code",
   "execution_count": 9,
   "id": "RGSE",
   "metadata": {},
   "outputs": [
    {
     "data": {
      "text/html": [
       "<div>\n",
       "<style scoped>\n",
       "    .dataframe tbody tr th:only-of-type {\n",
       "        vertical-align: middle;\n",
       "    }\n",
       "\n",
       "    .dataframe tbody tr th {\n",
       "        vertical-align: top;\n",
       "    }\n",
       "\n",
       "    .dataframe thead th {\n",
       "        text-align: right;\n",
       "    }\n",
       "</style>\n",
       "<table border=\"1\" class=\"dataframe\">\n",
       "  <thead>\n",
       "    <tr style=\"text-align: right;\">\n",
       "      <th></th>\n",
       "      <th>company_id</th>\n",
       "      <th>address</th>\n",
       "      <th>total_spend</th>\n",
       "    </tr>\n",
       "  </thead>\n",
       "  <tbody>\n",
       "    <tr>\n",
       "      <th>0</th>\n",
       "      <td>1</td>\n",
       "      <td>apartment2,52bedfordroad,london,england,sw47hj</td>\n",
       "      <td>5700</td>\n",
       "    </tr>\n",
       "    <tr>\n",
       "      <th>1</th>\n",
       "      <td>2</td>\n",
       "      <td>107sheringhamavenue,london,n144uj</td>\n",
       "      <td>4700</td>\n",
       "    </tr>\n",
       "    <tr>\n",
       "      <th>2</th>\n",
       "      <td>3</td>\n",
       "      <td>43sunningdale,yate,bristol,england,bs374hz</td>\n",
       "      <td>5900</td>\n",
       "    </tr>\n",
       "    <tr>\n",
       "      <th>3</th>\n",
       "      <td>4</td>\n",
       "      <td>haweswaterhouse,lingleymerebusinesspark,lingle...</td>\n",
       "      <td>7200</td>\n",
       "    </tr>\n",
       "    <tr>\n",
       "      <th>4</th>\n",
       "      <td>5</td>\n",
       "      <td>amberfieldbarnhouseamberlane,chartsutton,maids...</td>\n",
       "      <td>4600</td>\n",
       "    </tr>\n",
       "    <tr>\n",
       "      <th>...</th>\n",
       "      <td>...</td>\n",
       "      <td>...</td>\n",
       "      <td>...</td>\n",
       "    </tr>\n",
       "    <tr>\n",
       "      <th>99995</th>\n",
       "      <td>99996</td>\n",
       "      <td>knapphouse,selsleywest,stroud,gloucestershire,...</td>\n",
       "      <td>4600</td>\n",
       "    </tr>\n",
       "    <tr>\n",
       "      <th>99996</th>\n",
       "      <td>99997</td>\n",
       "      <td>20thebroadway,hamptoncourt,way,thamesditton,su...</td>\n",
       "      <td>4100</td>\n",
       "    </tr>\n",
       "    <tr>\n",
       "      <th>99997</th>\n",
       "      <td>99998</td>\n",
       "      <td>marlandhouse,13huddersfieldroad,barnsley,south...</td>\n",
       "      <td>5600</td>\n",
       "    </tr>\n",
       "    <tr>\n",
       "      <th>99998</th>\n",
       "      <td>99999</td>\n",
       "      <td>4mountscarview,scholes,holmfirthhuddersfield,w...</td>\n",
       "      <td>4600</td>\n",
       "    </tr>\n",
       "    <tr>\n",
       "      <th>99999</th>\n",
       "      <td>100000</td>\n",
       "      <td>manninghammillscommunitycenter,silkwarehouse,l...</td>\n",
       "      <td>5100</td>\n",
       "    </tr>\n",
       "  </tbody>\n",
       "</table>\n",
       "<p>99032 rows × 3 columns</p>\n",
       "</div>"
      ],
      "text/plain": [
       "       company_id                                            address  \\\n",
       "0               1     apartment2,52bedfordroad,london,england,sw47hj   \n",
       "1               2                  107sheringhamavenue,london,n144uj   \n",
       "2               3         43sunningdale,yate,bristol,england,bs374hz   \n",
       "3               4  haweswaterhouse,lingleymerebusinesspark,lingle...   \n",
       "4               5  amberfieldbarnhouseamberlane,chartsutton,maids...   \n",
       "...           ...                                                ...   \n",
       "99995       99996  knapphouse,selsleywest,stroud,gloucestershire,...   \n",
       "99996       99997  20thebroadway,hamptoncourt,way,thamesditton,su...   \n",
       "99997       99998  marlandhouse,13huddersfieldroad,barnsley,south...   \n",
       "99998       99999  4mountscarview,scholes,holmfirthhuddersfield,w...   \n",
       "99999      100000  manninghammillscommunitycenter,silkwarehouse,l...   \n",
       "\n",
       "       total_spend  \n",
       "0             5700  \n",
       "1             4700  \n",
       "2             5900  \n",
       "3             7200  \n",
       "4             4600  \n",
       "...            ...  \n",
       "99995         4600  \n",
       "99996         4100  \n",
       "99997         5600  \n",
       "99998         4600  \n",
       "99999         5100  \n",
       "\n",
       "[99032 rows x 3 columns]"
      ]
     },
     "execution_count": 9,
     "metadata": {},
     "output_type": "execute_result"
    }
   ],
   "source": [
    "df_na_dropped"
   ]
  },
  {
   "cell_type": "markdown",
   "id": "Kclp",
   "metadata": {
    "marimo": {
     "config": {
      "hide_code": true
     }
    }
   },
   "source": [
    "#### *__As the next step, I created lists from the city names in the provided cities file, as specified in the task. I used an LLM for this, since I thought it would be faster than writing code.__*"
   ]
  },
  {
   "cell_type": "code",
   "execution_count": 10,
   "id": "emfo",
   "metadata": {},
   "outputs": [],
   "source": [
    "england = [\n",
    "\"bath\", \"birmingham\", \"bradford\", \"brighton & hove\", \"bristol\", \"cambridge\", \"canterbury\",\n",
    "\"carlisle\", \"chelmsford\", \"chester\", \"chichester\", \"colchester\", \"coventry\", \"derby\",\n",
    "\"doncaster\", \"durham\", \"ely\", \"exeter\", \"gloucester\", \"hereford\", \"kingston-upon-hull\",\n",
    "\"lancaster\", \"leeds\", \"leicester\", \"lichfield\", \"lincoln\", \"liverpool\", \"london\",\n",
    "\"manchester\", \"milton keynes\", \"newcastle-upon-tyne\", \"norwich\", \"nottingham\", \"oxford\",\n",
    "\"peterborough\", \"plymouth\", \"portsmouth\", \"preston\", \"ripon\", \"salford\", \"salisbury\",\n",
    "\"sheffield\", \"southampton\", \"southend-on-sea\", \"st albans\", \"stoke on trent\", \"sunderland\",\n",
    "\"truro\", \"wakefield\", \"wells\", \"westminster\", \"winchester\", \"wolverhampton\", \"worcester\", \"york\"\n",
    "]\n",
    "\n",
    "northern_ireland = [\n",
    "\"armagh\", \"bangor\", \"belfast\", \"lisburn\", \"londonderry\", \"newry\"\n",
    "]\n",
    "\n",
    "scotland = [\n",
    "\"aberdeen\", \"dundee\", \"dunfermline\", \"edinburgh\", \"glasgow\", \"inverness\", \"perth\", \"stirling\"\n",
    "]\n",
    "\n",
    "wales = [\n",
    "\"bangor\", \"cardiff\", \"newport\", \"st asaph\", \"st davids\", \"swansea\", \"wrexham\"\n",
    "]"
   ]
  },
  {
   "cell_type": "markdown",
   "id": "Hstk",
   "metadata": {
    "marimo": {
     "config": {
      "hide_code": true
     }
    }
   },
   "source": [
    "#### *__I also removed the characters from the `city` names that I considered unnecessary.__*"
   ]
  },
  {
   "cell_type": "code",
   "execution_count": 11,
   "id": "nWHF",
   "metadata": {},
   "outputs": [],
   "source": [
    "countries = [england, northern_ireland, scotland, wales]\n",
    "\n",
    "for country in countries:\n",
    "    for i, city in enumerate(country):\n",
    "        country[i] = city.replace('-', '').replace(' ', '')"
   ]
  },
  {
   "cell_type": "markdown",
   "id": "iLit",
   "metadata": {
    "marimo": {
     "config": {
      "hide_code": true
     }
    }
   },
   "source": [
    "#### *__Based on the addresses, I created a `city` column, and where there was no city name in the address, I specified 'city_unknown'.__*"
   ]
  },
  {
   "cell_type": "code",
   "execution_count": 12,
   "id": "ZHCJ",
   "metadata": {},
   "outputs": [
    {
     "data": {
      "text/html": [
       "<div>\n",
       "<style scoped>\n",
       "    .dataframe tbody tr th:only-of-type {\n",
       "        vertical-align: middle;\n",
       "    }\n",
       "\n",
       "    .dataframe tbody tr th {\n",
       "        vertical-align: top;\n",
       "    }\n",
       "\n",
       "    .dataframe thead th {\n",
       "        text-align: right;\n",
       "    }\n",
       "</style>\n",
       "<table border=\"1\" class=\"dataframe\">\n",
       "  <thead>\n",
       "    <tr style=\"text-align: right;\">\n",
       "      <th></th>\n",
       "      <th>company_id</th>\n",
       "      <th>address</th>\n",
       "      <th>total_spend</th>\n",
       "      <th>city</th>\n",
       "    </tr>\n",
       "  </thead>\n",
       "  <tbody>\n",
       "    <tr>\n",
       "      <th>0</th>\n",
       "      <td>1</td>\n",
       "      <td>apartment2,52bedfordroad,london,england,sw47hj</td>\n",
       "      <td>5700</td>\n",
       "      <td>london</td>\n",
       "    </tr>\n",
       "    <tr>\n",
       "      <th>1</th>\n",
       "      <td>2</td>\n",
       "      <td>107sheringhamavenue,london,n144uj</td>\n",
       "      <td>4700</td>\n",
       "      <td>london</td>\n",
       "    </tr>\n",
       "    <tr>\n",
       "      <th>2</th>\n",
       "      <td>3</td>\n",
       "      <td>43sunningdale,yate,bristol,england,bs374hz</td>\n",
       "      <td>5900</td>\n",
       "      <td>bristol</td>\n",
       "    </tr>\n",
       "    <tr>\n",
       "      <th>3</th>\n",
       "      <td>4</td>\n",
       "      <td>haweswaterhouse,lingleymerebusinesspark,lingle...</td>\n",
       "      <td>7200</td>\n",
       "      <td>city_unknown</td>\n",
       "    </tr>\n",
       "    <tr>\n",
       "      <th>4</th>\n",
       "      <td>5</td>\n",
       "      <td>amberfieldbarnhouseamberlane,chartsutton,maids...</td>\n",
       "      <td>4600</td>\n",
       "      <td>city_unknown</td>\n",
       "    </tr>\n",
       "    <tr>\n",
       "      <th>...</th>\n",
       "      <td>...</td>\n",
       "      <td>...</td>\n",
       "      <td>...</td>\n",
       "      <td>...</td>\n",
       "    </tr>\n",
       "    <tr>\n",
       "      <th>99995</th>\n",
       "      <td>99996</td>\n",
       "      <td>knapphouse,selsleywest,stroud,gloucestershire,...</td>\n",
       "      <td>4600</td>\n",
       "      <td>city_unknown</td>\n",
       "    </tr>\n",
       "    <tr>\n",
       "      <th>99996</th>\n",
       "      <td>99997</td>\n",
       "      <td>20thebroadway,hamptoncourt,way,thamesditton,su...</td>\n",
       "      <td>4100</td>\n",
       "      <td>city_unknown</td>\n",
       "    </tr>\n",
       "    <tr>\n",
       "      <th>99997</th>\n",
       "      <td>99998</td>\n",
       "      <td>marlandhouse,13huddersfieldroad,barnsley,south...</td>\n",
       "      <td>5600</td>\n",
       "      <td>city_unknown</td>\n",
       "    </tr>\n",
       "    <tr>\n",
       "      <th>99998</th>\n",
       "      <td>99999</td>\n",
       "      <td>4mountscarview,scholes,holmfirthhuddersfield,w...</td>\n",
       "      <td>4600</td>\n",
       "      <td>city_unknown</td>\n",
       "    </tr>\n",
       "    <tr>\n",
       "      <th>99999</th>\n",
       "      <td>100000</td>\n",
       "      <td>manninghammillscommunitycenter,silkwarehouse,l...</td>\n",
       "      <td>5100</td>\n",
       "      <td>bradford</td>\n",
       "    </tr>\n",
       "  </tbody>\n",
       "</table>\n",
       "<p>99032 rows × 4 columns</p>\n",
       "</div>"
      ],
      "text/plain": [
       "       company_id                                            address  \\\n",
       "0               1     apartment2,52bedfordroad,london,england,sw47hj   \n",
       "1               2                  107sheringhamavenue,london,n144uj   \n",
       "2               3         43sunningdale,yate,bristol,england,bs374hz   \n",
       "3               4  haweswaterhouse,lingleymerebusinesspark,lingle...   \n",
       "4               5  amberfieldbarnhouseamberlane,chartsutton,maids...   \n",
       "...           ...                                                ...   \n",
       "99995       99996  knapphouse,selsleywest,stroud,gloucestershire,...   \n",
       "99996       99997  20thebroadway,hamptoncourt,way,thamesditton,su...   \n",
       "99997       99998  marlandhouse,13huddersfieldroad,barnsley,south...   \n",
       "99998       99999  4mountscarview,scholes,holmfirthhuddersfield,w...   \n",
       "99999      100000  manninghammillscommunitycenter,silkwarehouse,l...   \n",
       "\n",
       "       total_spend          city  \n",
       "0             5700        london  \n",
       "1             4700        london  \n",
       "2             5900       bristol  \n",
       "3             7200  city_unknown  \n",
       "4             4600  city_unknown  \n",
       "...            ...           ...  \n",
       "99995         4600  city_unknown  \n",
       "99996         4100  city_unknown  \n",
       "99997         5600  city_unknown  \n",
       "99998         4600  city_unknown  \n",
       "99999         5100      bradford  \n",
       "\n",
       "[99032 rows x 4 columns]"
      ]
     },
     "execution_count": 12,
     "metadata": {},
     "output_type": "execute_result"
    }
   ],
   "source": [
    "def find_city(address):\n",
    "    all_cities = england + northern_ireland + scotland + wales\n",
    "    for city in all_cities:\n",
    "        if (f',{city},') in address:\n",
    "            return city\n",
    "    return 'city_unknown'\n",
    "\n",
    "df_with_city_col = df_na_dropped.copy()\n",
    "\n",
    "df_with_city_col.loc[:, 'city'] = df_with_city_col['address'].apply(find_city)\n",
    "\n",
    "df_with_city_col"
   ]
  },
  {
   "cell_type": "code",
   "execution_count": 13,
   "id": "ROlb",
   "metadata": {},
   "outputs": [
    {
     "data": {
      "text/plain": [
       "city\n",
       "city_unknown        267132600\n",
       "london              103141400\n",
       "manchester            9441200\n",
       "birmingham            9317900\n",
       "glasgow               6293100\n",
       "                      ...    \n",
       "ripon                  120100\n",
       "stasaph                 34900\n",
       "kingstonuponhull        23400\n",
       "brighton&hove            7400\n",
       "stdavids                 6300\n",
       "Name: total_spend, Length: 75, dtype: int64"
      ]
     },
     "execution_count": 13,
     "metadata": {},
     "output_type": "execute_result"
    }
   ],
   "source": [
    "df_with_city_col.groupby('city')['total_spend'].sum().sort_values(ascending=False)"
   ]
  },
  {
   "cell_type": "code",
   "execution_count": 14,
   "id": "qnkX",
   "metadata": {},
   "outputs": [
    {
     "name": "stdout",
     "output_type": "stream",
     "text": [
      "All cities spend except London: 387232700\n",
      "London spend: 103141400\n",
      "All cities spend: 490374100\n",
      "London ratio to all cities: 21.03 %\n"
     ]
    }
   ],
   "source": [
    "all_cities_except_london_spend = df_with_city_col[df_with_city_col['city'] != 'london'].groupby('city')['total_spend'].sum().sum()\n",
    "\n",
    "london_spend = df_with_city_col[df_with_city_col['city'] == 'london']['total_spend'].sum()\n",
    "\n",
    "all_cities_spend = df_with_city_col['total_spend'].sum()\n",
    "\n",
    "london_ratio = london_spend/all_cities_spend\n",
    "\n",
    "print(f'All cities spend except London: {all_cities_except_london_spend}')\n",
    "print(f'London spend: {london_spend}')\n",
    "print(f'All cities spend: {all_cities_spend}')\n",
    "print(f'London ratio to all cities: {london_ratio*100:.2f} %')"
   ]
  },
  {
   "cell_type": "code",
   "execution_count": 15,
   "id": "679cec2b",
   "metadata": {},
   "outputs": [
    {
     "data": {
      "text/html": [
       "<div>\n",
       "<style scoped>\n",
       "    .dataframe tbody tr th:only-of-type {\n",
       "        vertical-align: middle;\n",
       "    }\n",
       "\n",
       "    .dataframe tbody tr th {\n",
       "        vertical-align: top;\n",
       "    }\n",
       "\n",
       "    .dataframe thead th {\n",
       "        text-align: right;\n",
       "    }\n",
       "</style>\n",
       "<table border=\"1\" class=\"dataframe\">\n",
       "  <thead>\n",
       "    <tr style=\"text-align: right;\">\n",
       "      <th></th>\n",
       "      <th>city</th>\n",
       "      <th>total_spend</th>\n",
       "    </tr>\n",
       "  </thead>\n",
       "  <tbody>\n",
       "    <tr>\n",
       "      <th>0</th>\n",
       "      <td>city_unknown</td>\n",
       "      <td>267.1326</td>\n",
       "    </tr>\n",
       "    <tr>\n",
       "      <th>1</th>\n",
       "      <td>london</td>\n",
       "      <td>103.1414</td>\n",
       "    </tr>\n",
       "    <tr>\n",
       "      <th>2</th>\n",
       "      <td>manchester</td>\n",
       "      <td>9.4412</td>\n",
       "    </tr>\n",
       "    <tr>\n",
       "      <th>3</th>\n",
       "      <td>birmingham</td>\n",
       "      <td>9.3179</td>\n",
       "    </tr>\n",
       "    <tr>\n",
       "      <th>4</th>\n",
       "      <td>glasgow</td>\n",
       "      <td>6.2931</td>\n",
       "    </tr>\n",
       "    <tr>\n",
       "      <th>...</th>\n",
       "      <td>...</td>\n",
       "      <td>...</td>\n",
       "    </tr>\n",
       "    <tr>\n",
       "      <th>70</th>\n",
       "      <td>ripon</td>\n",
       "      <td>0.1201</td>\n",
       "    </tr>\n",
       "    <tr>\n",
       "      <th>71</th>\n",
       "      <td>stasaph</td>\n",
       "      <td>0.0349</td>\n",
       "    </tr>\n",
       "    <tr>\n",
       "      <th>72</th>\n",
       "      <td>kingstonuponhull</td>\n",
       "      <td>0.0234</td>\n",
       "    </tr>\n",
       "    <tr>\n",
       "      <th>73</th>\n",
       "      <td>brighton&amp;hove</td>\n",
       "      <td>0.0074</td>\n",
       "    </tr>\n",
       "    <tr>\n",
       "      <th>74</th>\n",
       "      <td>stdavids</td>\n",
       "      <td>0.0063</td>\n",
       "    </tr>\n",
       "  </tbody>\n",
       "</table>\n",
       "<p>75 rows × 2 columns</p>\n",
       "</div>"
      ],
      "text/plain": [
       "                city  total_spend\n",
       "0       city_unknown     267.1326\n",
       "1             london     103.1414\n",
       "2         manchester       9.4412\n",
       "3         birmingham       9.3179\n",
       "4            glasgow       6.2931\n",
       "..               ...          ...\n",
       "70             ripon       0.1201\n",
       "71           stasaph       0.0349\n",
       "72  kingstonuponhull       0.0234\n",
       "73     brighton&hove       0.0074\n",
       "74          stdavids       0.0063\n",
       "\n",
       "[75 rows x 2 columns]"
      ]
     },
     "execution_count": 15,
     "metadata": {},
     "output_type": "execute_result"
    }
   ],
   "source": [
    "total_spend_by_city = df_with_city_col.groupby('city')['total_spend'].sum().sort_values(ascending=False).reset_index()\n",
    "total_spend_by_city['total_spend'] = total_spend_by_city['total_spend'] / 1_000_000\n",
    "total_spend_by_city\n"
   ]
  },
  {
   "cell_type": "code",
   "execution_count": 16,
   "id": "TqIu",
   "metadata": {},
   "outputs": [
    {
     "data": {
      "image/png": "[encoded data removed]",
      "text/plain": [
       "<Figure size 1400x600 with 1 Axes>"
      ]
     },
     "metadata": {},
     "output_type": "display_data"
    },
    {
     "data": {
      "text/plain": [
       "None"
      ]
     },
     "metadata": {},
     "output_type": "display_data"
    },
    {
     "name": "stdout",
     "output_type": "stream",
     "text": [
      "The TOP 5 most served cities are:\n"
     ]
    },
    {
     "data": {
      "text/html": [
       "<div>\n",
       "<style scoped>\n",
       "    .dataframe tbody tr th:only-of-type {\n",
       "        vertical-align: middle;\n",
       "    }\n",
       "\n",
       "    .dataframe tbody tr th {\n",
       "        vertical-align: top;\n",
       "    }\n",
       "\n",
       "    .dataframe thead th {\n",
       "        text-align: right;\n",
       "    }\n",
       "</style>\n",
       "<table border=\"1\" class=\"dataframe\">\n",
       "  <thead>\n",
       "    <tr style=\"text-align: right;\">\n",
       "      <th></th>\n",
       "      <th>city</th>\n",
       "      <th>total_spend</th>\n",
       "    </tr>\n",
       "  </thead>\n",
       "  <tbody>\n",
       "    <tr>\n",
       "      <th>0</th>\n",
       "      <td>city_unknown</td>\n",
       "      <td>267.1326</td>\n",
       "    </tr>\n",
       "    <tr>\n",
       "      <th>1</th>\n",
       "      <td>london</td>\n",
       "      <td>103.1414</td>\n",
       "    </tr>\n",
       "    <tr>\n",
       "      <th>2</th>\n",
       "      <td>manchester</td>\n",
       "      <td>9.4412</td>\n",
       "    </tr>\n",
       "    <tr>\n",
       "      <th>3</th>\n",
       "      <td>birmingham</td>\n",
       "      <td>9.3179</td>\n",
       "    </tr>\n",
       "    <tr>\n",
       "      <th>4</th>\n",
       "      <td>glasgow</td>\n",
       "      <td>6.2931</td>\n",
       "    </tr>\n",
       "  </tbody>\n",
       "</table>\n",
       "</div>"
      ],
      "text/plain": [
       "           city  total_spend\n",
       "0  city_unknown     267.1326\n",
       "1        london     103.1414\n",
       "2    manchester       9.4412\n",
       "3    birmingham       9.3179\n",
       "4       glasgow       6.2931"
      ]
     },
     "metadata": {},
     "output_type": "display_data"
    },
    {
     "name": "stdout",
     "output_type": "stream",
     "text": [
      "The BOTTOM 5 least served cities are:\n"
     ]
    },
    {
     "data": {
      "text/html": [
       "<div>\n",
       "<style scoped>\n",
       "    .dataframe tbody tr th:only-of-type {\n",
       "        vertical-align: middle;\n",
       "    }\n",
       "\n",
       "    .dataframe tbody tr th {\n",
       "        vertical-align: top;\n",
       "    }\n",
       "\n",
       "    .dataframe thead th {\n",
       "        text-align: right;\n",
       "    }\n",
       "</style>\n",
       "<table border=\"1\" class=\"dataframe\">\n",
       "  <thead>\n",
       "    <tr style=\"text-align: right;\">\n",
       "      <th></th>\n",
       "      <th>city</th>\n",
       "      <th>total_spend</th>\n",
       "    </tr>\n",
       "  </thead>\n",
       "  <tbody>\n",
       "    <tr>\n",
       "      <th>70</th>\n",
       "      <td>ripon</td>\n",
       "      <td>0.1201</td>\n",
       "    </tr>\n",
       "    <tr>\n",
       "      <th>71</th>\n",
       "      <td>stasaph</td>\n",
       "      <td>0.0349</td>\n",
       "    </tr>\n",
       "    <tr>\n",
       "      <th>72</th>\n",
       "      <td>kingstonuponhull</td>\n",
       "      <td>0.0234</td>\n",
       "    </tr>\n",
       "    <tr>\n",
       "      <th>73</th>\n",
       "      <td>brighton&amp;hove</td>\n",
       "      <td>0.0074</td>\n",
       "    </tr>\n",
       "    <tr>\n",
       "      <th>74</th>\n",
       "      <td>stdavids</td>\n",
       "      <td>0.0063</td>\n",
       "    </tr>\n",
       "  </tbody>\n",
       "</table>\n",
       "</div>"
      ],
      "text/plain": [
       "                city  total_spend\n",
       "70             ripon       0.1201\n",
       "71           stasaph       0.0349\n",
       "72  kingstonuponhull       0.0234\n",
       "73     brighton&hove       0.0074\n",
       "74          stdavids       0.0063"
      ]
     },
     "metadata": {},
     "output_type": "display_data"
    }
   ],
   "source": [
    "fig, ax = plt.subplots(figsize=(14,6))\n",
    "\n",
    "ax.barh(total_spend_by_city.head(10)['city'], total_spend_by_city.head(10)['total_spend'])\n",
    "#ax.tick_params(axis='x', labelrotation=90)\n",
    "\n",
    "ax.set_ylabel('City name', fontweight='bold')\n",
    "ax.set_xlabel('Total spend (in millions GBP)', fontweight='bold')\n",
    "\n",
    "display(plt.show())\n",
    "\n",
    "print('The TOP 5 most served cities are:')\n",
    "display(total_spend_by_city.head())\n",
    "\n",
    "print('The BOTTOM 5 least served cities are:')\n",
    "display(total_spend_by_city.tail(5))\n"
   ]
  },
  {
   "cell_type": "code",
   "execution_count": null,
   "id": "e12e1ce9",
   "metadata": {},
   "outputs": [],
   "source": []
  }
 ],
 "metadata": {
  "kernelspec": {
   "display_name": "the-well-grounded-env",
   "language": "python",
   "name": "python3"
  },
  "language_info": {
   "codemirror_mode": {
    "name": "ipython",
    "version": 3
   },
   "file_extension": ".py",
   "mimetype": "text/x-python",
   "name": "python",
   "nbconvert_exporter": "python",
   "pygments_lexer": "ipython3",
   "version": "3.13.3"
  }
 },
 "nbformat": 4,
 "nbformat_minor": 5
}
